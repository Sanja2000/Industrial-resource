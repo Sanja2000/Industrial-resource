{
  "nbformat": 4,
  "nbformat_minor": 0,
  "metadata": {
    "colab": {
      "provenance": [],
      "authorship_tag": "ABX9TyPntHFyJM9vQyF2QhLHXGOA",
      "include_colab_link": true
    },
    "kernelspec": {
      "name": "python3",
      "display_name": "Python 3"
    },
    "language_info": {
      "name": "python"
    }
  },
  "cells": [
    {
      "cell_type": "markdown",
      "metadata": {
        "id": "view-in-github",
        "colab_type": "text"
      },
      "source": [
        "<a href=\"https://colab.research.google.com/github/Sanja2000/Industrial-resource/blob/main/Human_resource.ipynb\" target=\"_parent\"><img src=\"https://colab.research.google.com/assets/colab-badge.svg\" alt=\"Open In Colab\"/></a>"
      ]
    },
    {
      "cell_type": "code",
      "execution_count": 98,
      "metadata": {
        "id": "ZnRZZJOAfKg0"
      },
      "outputs": [],
      "source": [
        "import pandas as pd\n",
        "from glob import glob"
      ]
    },
    {
      "cell_type": "markdown",
      "source": [
        "Merging several csv files into one dataframe by using the glob function"
      ],
      "metadata": {
        "id": "vGKOz8ksdk4f"
      }
    },
    {
      "cell_type": "code",
      "source": [
        "data_files = sorted(glob('/content/data*.csv'))\n",
        "data_files"
      ],
      "metadata": {
        "colab": {
          "base_uri": "https://localhost:8080/"
        },
        "id": "DtfIGU-4gvgv",
        "outputId": "02901508-e894-48ba-e206-fdcc249ed0c1"
      },
      "execution_count": 99,
      "outputs": [
        {
          "output_type": "execute_result",
          "data": {
            "text/plain": [
              "['/content/data1.csv',\n",
              " '/content/data2.csv',\n",
              " '/content/data3.csv',\n",
              " '/content/data4.csv']"
            ]
          },
          "metadata": {},
          "execution_count": 99
        }
      ]
    },
    {
      "cell_type": "code",
      "source": [
        "df = pd.concat(pd.read_csv(datafile, encoding=('ISO-8859-1'),low_memory =False).assign(sourcefilename = datafile) for datafile in data_files)"
      ],
      "metadata": {
        "id": "CQ5nAi2kjbos"
      },
      "execution_count": 100,
      "outputs": []
    },
    {
      "cell_type": "code",
      "source": [
        "df.head(5)      "
      ],
      "metadata": {
        "colab": {
          "base_uri": "https://localhost:8080/",
          "height": 629
        },
        "id": "STU98qtFnGRw",
        "outputId": "a7d3c9f6-18ef-4e71-e9d5-648890bbaf88"
      },
      "execution_count": 101,
      "outputs": [
        {
          "output_type": "execute_result",
          "data": {
            "text/plain": [
              "  Table Name State Code District Code       India/States Division Group  \\\n",
              "0      B0118        `08          `000  STATE - RAJASTHAN      `00  `000   \n",
              "1      B0118        `08          `000  STATE - RAJASTHAN      `01  `000   \n",
              "2      B0118        `08          `000  STATE - RAJASTHAN      `01  `011   \n",
              "3      B0118        `08          `000  STATE - RAJASTHAN      `01  `011   \n",
              "4      B0118        `08          `000  STATE - RAJASTHAN      `01  `011   \n",
              "\n",
              "   Class                                           NIC Name  \\\n",
              "0  `0000                                              Total   \n",
              "1  `0000  Crop and animal production, hunting and relate...   \n",
              "2  `0000                     Growing of non-perennial crops   \n",
              "3  `0111  Growing of cereals (except rice), leguminous c...   \n",
              "4  `0112                                    Growing of rice   \n",
              "\n",
              "   Main Workers - Total -  Persons  Main Workers - Total - Males  ...  \\\n",
              "0                          9017944                       7594737  ...   \n",
              "1                           450766                        201572  ...   \n",
              "2                            12876                         10547  ...   \n",
              "3                            12061                          9911  ...   \n",
              "4                               79                            71  ...   \n",
              "\n",
              "   Marginal Workers - Total -  Persons  Marginal Workers - Total - Males  \\\n",
              "0                              2307752                           1046813   \n",
              "1                               408728                             76106   \n",
              "2                                 9562                              4051   \n",
              "3                                 9085                              3883   \n",
              "4                                   13                                 4   \n",
              "\n",
              "   Marginal Workers - Total - Females  Marginal Workers - Rural -  Persons  \\\n",
              "0                             1260939                              1825830   \n",
              "1                              332622                               390864   \n",
              "2                                5511                                 8147   \n",
              "3                                5202                                 7777   \n",
              "4                                   9                                   11   \n",
              "\n",
              "   Marginal Workers - Rural - Males  Marginal Workers - Rural - Females  \\\n",
              "0                            749381                             1076449   \n",
              "1                             71124                              319740   \n",
              "2                              3295                                4852   \n",
              "3                              3161                                4616   \n",
              "4                                 2                                   9   \n",
              "\n",
              "   Marginal Workers - Urban -  Persons  Marginal Workers - Urban - Males  \\\n",
              "0                               481922                            297432   \n",
              "1                                17864                              4982   \n",
              "2                                 1415                               756   \n",
              "3                                 1308                               722   \n",
              "4                                    2                                 2   \n",
              "\n",
              "   Marginal Workers - Urban - Females      sourcefilename  \n",
              "0                              184490  /content/data1.csv  \n",
              "1                               12882  /content/data1.csv  \n",
              "2                                 659  /content/data1.csv  \n",
              "3                                 586  /content/data1.csv  \n",
              "4                                   0  /content/data1.csv  \n",
              "\n",
              "[5 rows x 27 columns]"
            ],
            "text/html": [
              "\n",
              "  <div id=\"df-276c0446-3045-4635-a697-b9d50d24ed65\">\n",
              "    <div class=\"colab-df-container\">\n",
              "      <div>\n",
              "<style scoped>\n",
              "    .dataframe tbody tr th:only-of-type {\n",
              "        vertical-align: middle;\n",
              "    }\n",
              "\n",
              "    .dataframe tbody tr th {\n",
              "        vertical-align: top;\n",
              "    }\n",
              "\n",
              "    .dataframe thead th {\n",
              "        text-align: right;\n",
              "    }\n",
              "</style>\n",
              "<table border=\"1\" class=\"dataframe\">\n",
              "  <thead>\n",
              "    <tr style=\"text-align: right;\">\n",
              "      <th></th>\n",
              "      <th>Table Name</th>\n",
              "      <th>State Code</th>\n",
              "      <th>District Code</th>\n",
              "      <th>India/States</th>\n",
              "      <th>Division</th>\n",
              "      <th>Group</th>\n",
              "      <th>Class</th>\n",
              "      <th>NIC Name</th>\n",
              "      <th>Main Workers - Total -  Persons</th>\n",
              "      <th>Main Workers - Total - Males</th>\n",
              "      <th>...</th>\n",
              "      <th>Marginal Workers - Total -  Persons</th>\n",
              "      <th>Marginal Workers - Total - Males</th>\n",
              "      <th>Marginal Workers - Total - Females</th>\n",
              "      <th>Marginal Workers - Rural -  Persons</th>\n",
              "      <th>Marginal Workers - Rural - Males</th>\n",
              "      <th>Marginal Workers - Rural - Females</th>\n",
              "      <th>Marginal Workers - Urban -  Persons</th>\n",
              "      <th>Marginal Workers - Urban - Males</th>\n",
              "      <th>Marginal Workers - Urban - Females</th>\n",
              "      <th>sourcefilename</th>\n",
              "    </tr>\n",
              "  </thead>\n",
              "  <tbody>\n",
              "    <tr>\n",
              "      <th>0</th>\n",
              "      <td>B0118</td>\n",
              "      <td>`08</td>\n",
              "      <td>`000</td>\n",
              "      <td>STATE - RAJASTHAN</td>\n",
              "      <td>`00</td>\n",
              "      <td>`000</td>\n",
              "      <td>`0000</td>\n",
              "      <td>Total</td>\n",
              "      <td>9017944</td>\n",
              "      <td>7594737</td>\n",
              "      <td>...</td>\n",
              "      <td>2307752</td>\n",
              "      <td>1046813</td>\n",
              "      <td>1260939</td>\n",
              "      <td>1825830</td>\n",
              "      <td>749381</td>\n",
              "      <td>1076449</td>\n",
              "      <td>481922</td>\n",
              "      <td>297432</td>\n",
              "      <td>184490</td>\n",
              "      <td>/content/data1.csv</td>\n",
              "    </tr>\n",
              "    <tr>\n",
              "      <th>1</th>\n",
              "      <td>B0118</td>\n",
              "      <td>`08</td>\n",
              "      <td>`000</td>\n",
              "      <td>STATE - RAJASTHAN</td>\n",
              "      <td>`01</td>\n",
              "      <td>`000</td>\n",
              "      <td>`0000</td>\n",
              "      <td>Crop and animal production, hunting and relate...</td>\n",
              "      <td>450766</td>\n",
              "      <td>201572</td>\n",
              "      <td>...</td>\n",
              "      <td>408728</td>\n",
              "      <td>76106</td>\n",
              "      <td>332622</td>\n",
              "      <td>390864</td>\n",
              "      <td>71124</td>\n",
              "      <td>319740</td>\n",
              "      <td>17864</td>\n",
              "      <td>4982</td>\n",
              "      <td>12882</td>\n",
              "      <td>/content/data1.csv</td>\n",
              "    </tr>\n",
              "    <tr>\n",
              "      <th>2</th>\n",
              "      <td>B0118</td>\n",
              "      <td>`08</td>\n",
              "      <td>`000</td>\n",
              "      <td>STATE - RAJASTHAN</td>\n",
              "      <td>`01</td>\n",
              "      <td>`011</td>\n",
              "      <td>`0000</td>\n",
              "      <td>Growing of non-perennial crops</td>\n",
              "      <td>12876</td>\n",
              "      <td>10547</td>\n",
              "      <td>...</td>\n",
              "      <td>9562</td>\n",
              "      <td>4051</td>\n",
              "      <td>5511</td>\n",
              "      <td>8147</td>\n",
              "      <td>3295</td>\n",
              "      <td>4852</td>\n",
              "      <td>1415</td>\n",
              "      <td>756</td>\n",
              "      <td>659</td>\n",
              "      <td>/content/data1.csv</td>\n",
              "    </tr>\n",
              "    <tr>\n",
              "      <th>3</th>\n",
              "      <td>B0118</td>\n",
              "      <td>`08</td>\n",
              "      <td>`000</td>\n",
              "      <td>STATE - RAJASTHAN</td>\n",
              "      <td>`01</td>\n",
              "      <td>`011</td>\n",
              "      <td>`0111</td>\n",
              "      <td>Growing of cereals (except rice), leguminous c...</td>\n",
              "      <td>12061</td>\n",
              "      <td>9911</td>\n",
              "      <td>...</td>\n",
              "      <td>9085</td>\n",
              "      <td>3883</td>\n",
              "      <td>5202</td>\n",
              "      <td>7777</td>\n",
              "      <td>3161</td>\n",
              "      <td>4616</td>\n",
              "      <td>1308</td>\n",
              "      <td>722</td>\n",
              "      <td>586</td>\n",
              "      <td>/content/data1.csv</td>\n",
              "    </tr>\n",
              "    <tr>\n",
              "      <th>4</th>\n",
              "      <td>B0118</td>\n",
              "      <td>`08</td>\n",
              "      <td>`000</td>\n",
              "      <td>STATE - RAJASTHAN</td>\n",
              "      <td>`01</td>\n",
              "      <td>`011</td>\n",
              "      <td>`0112</td>\n",
              "      <td>Growing of rice</td>\n",
              "      <td>79</td>\n",
              "      <td>71</td>\n",
              "      <td>...</td>\n",
              "      <td>13</td>\n",
              "      <td>4</td>\n",
              "      <td>9</td>\n",
              "      <td>11</td>\n",
              "      <td>2</td>\n",
              "      <td>9</td>\n",
              "      <td>2</td>\n",
              "      <td>2</td>\n",
              "      <td>0</td>\n",
              "      <td>/content/data1.csv</td>\n",
              "    </tr>\n",
              "  </tbody>\n",
              "</table>\n",
              "<p>5 rows × 27 columns</p>\n",
              "</div>\n",
              "      <button class=\"colab-df-convert\" onclick=\"convertToInteractive('df-276c0446-3045-4635-a697-b9d50d24ed65')\"\n",
              "              title=\"Convert this dataframe to an interactive table.\"\n",
              "              style=\"display:none;\">\n",
              "        \n",
              "  <svg xmlns=\"http://www.w3.org/2000/svg\" height=\"24px\"viewBox=\"0 0 24 24\"\n",
              "       width=\"24px\">\n",
              "    <path d=\"M0 0h24v24H0V0z\" fill=\"none\"/>\n",
              "    <path d=\"M18.56 5.44l.94 2.06.94-2.06 2.06-.94-2.06-.94-.94-2.06-.94 2.06-2.06.94zm-11 1L8.5 8.5l.94-2.06 2.06-.94-2.06-.94L8.5 2.5l-.94 2.06-2.06.94zm10 10l.94 2.06.94-2.06 2.06-.94-2.06-.94-.94-2.06-.94 2.06-2.06.94z\"/><path d=\"M17.41 7.96l-1.37-1.37c-.4-.4-.92-.59-1.43-.59-.52 0-1.04.2-1.43.59L10.3 9.45l-7.72 7.72c-.78.78-.78 2.05 0 2.83L4 21.41c.39.39.9.59 1.41.59.51 0 1.02-.2 1.41-.59l7.78-7.78 2.81-2.81c.8-.78.8-2.07 0-2.86zM5.41 20L4 18.59l7.72-7.72 1.47 1.35L5.41 20z\"/>\n",
              "  </svg>\n",
              "      </button>\n",
              "      \n",
              "  <style>\n",
              "    .colab-df-container {\n",
              "      display:flex;\n",
              "      flex-wrap:wrap;\n",
              "      gap: 12px;\n",
              "    }\n",
              "\n",
              "    .colab-df-convert {\n",
              "      background-color: #E8F0FE;\n",
              "      border: none;\n",
              "      border-radius: 50%;\n",
              "      cursor: pointer;\n",
              "      display: none;\n",
              "      fill: #1967D2;\n",
              "      height: 32px;\n",
              "      padding: 0 0 0 0;\n",
              "      width: 32px;\n",
              "    }\n",
              "\n",
              "    .colab-df-convert:hover {\n",
              "      background-color: #E2EBFA;\n",
              "      box-shadow: 0px 1px 2px rgba(60, 64, 67, 0.3), 0px 1px 3px 1px rgba(60, 64, 67, 0.15);\n",
              "      fill: #174EA6;\n",
              "    }\n",
              "\n",
              "    [theme=dark] .colab-df-convert {\n",
              "      background-color: #3B4455;\n",
              "      fill: #D2E3FC;\n",
              "    }\n",
              "\n",
              "    [theme=dark] .colab-df-convert:hover {\n",
              "      background-color: #434B5C;\n",
              "      box-shadow: 0px 1px 3px 1px rgba(0, 0, 0, 0.15);\n",
              "      filter: drop-shadow(0px 1px 2px rgba(0, 0, 0, 0.3));\n",
              "      fill: #FFFFFF;\n",
              "    }\n",
              "  </style>\n",
              "\n",
              "      <script>\n",
              "        const buttonEl =\n",
              "          document.querySelector('#df-276c0446-3045-4635-a697-b9d50d24ed65 button.colab-df-convert');\n",
              "        buttonEl.style.display =\n",
              "          google.colab.kernel.accessAllowed ? 'block' : 'none';\n",
              "\n",
              "        async function convertToInteractive(key) {\n",
              "          const element = document.querySelector('#df-276c0446-3045-4635-a697-b9d50d24ed65');\n",
              "          const dataTable =\n",
              "            await google.colab.kernel.invokeFunction('convertToInteractive',\n",
              "                                                     [key], {});\n",
              "          if (!dataTable) return;\n",
              "\n",
              "          const docLinkHtml = 'Like what you see? Visit the ' +\n",
              "            '<a target=\"_blank\" href=https://colab.research.google.com/notebooks/data_table.ipynb>data table notebook</a>'\n",
              "            + ' to learn more about interactive tables.';\n",
              "          element.innerHTML = '';\n",
              "          dataTable['output_type'] = 'display_data';\n",
              "          await google.colab.output.renderOutput(dataTable, element);\n",
              "          const docLink = document.createElement('div');\n",
              "          docLink.innerHTML = docLinkHtml;\n",
              "          element.appendChild(docLink);\n",
              "        }\n",
              "      </script>\n",
              "    </div>\n",
              "  </div>\n",
              "  "
            ]
          },
          "metadata": {},
          "execution_count": 101
        }
      ]
    },
    {
      "cell_type": "markdown",
      "source": [
        "DATA CLEANING"
      ],
      "metadata": {
        "id": "4KatV15lYeB7"
      }
    },
    {
      "cell_type": "markdown",
      "source": [
        "Checking for the null values present in the dataset column-wise."
      ],
      "metadata": {
        "id": "kjnnxs0vYivU"
      }
    },
    {
      "cell_type": "code",
      "source": [
        "df.isna().sum()"
      ],
      "metadata": {
        "colab": {
          "base_uri": "https://localhost:8080/"
        },
        "id": "gjKUHo11YMEP",
        "outputId": "f551b881-46d2-46b8-9177-b74620160b16"
      },
      "execution_count": 102,
      "outputs": [
        {
          "output_type": "execute_result",
          "data": {
            "text/plain": [
              "Table Name                             0\n",
              "State Code                             0\n",
              "District Code                          0\n",
              "India/States                           0\n",
              "Division                               0\n",
              "Group                                  0\n",
              "Class                                  0\n",
              "NIC Name                               0\n",
              "Main Workers - Total -  Persons        0\n",
              "Main Workers - Total - Males           0\n",
              "Main Workers - Total - Females         0\n",
              "Main Workers - Rural -  Persons        0\n",
              "Main Workers - Rural - Males           0\n",
              "Main Workers - Rural - Females         0\n",
              "Main Workers - Urban -  Persons        0\n",
              "Main Workers - Urban - Males           0\n",
              "Main Workers - Urban - Females         0\n",
              "Marginal Workers - Total -  Persons    0\n",
              "Marginal Workers - Total - Males       0\n",
              "Marginal Workers - Total - Females     0\n",
              "Marginal Workers - Rural -  Persons    0\n",
              "Marginal Workers - Rural - Males       0\n",
              "Marginal Workers - Rural - Females     0\n",
              "Marginal Workers - Urban -  Persons    0\n",
              "Marginal Workers - Urban - Males       0\n",
              "Marginal Workers - Urban - Females     0\n",
              "sourcefilename                         0\n",
              "dtype: int64"
            ]
          },
          "metadata": {},
          "execution_count": 102
        }
      ]
    },
    {
      "cell_type": "markdown",
      "source": [
        "There are no null values present in any column of the dataset."
      ],
      "metadata": {
        "id": "v-hQ_th9aY7N"
      }
    },
    {
      "cell_type": "markdown",
      "source": [
        "De Duplicate"
      ],
      "metadata": {
        "id": "8TXRrogxY5Ri"
      }
    },
    {
      "cell_type": "markdown",
      "source": [
        "Cheking for the duplicated values"
      ],
      "metadata": {
        "id": "5Qbtmw6hY9bC"
      }
    },
    {
      "cell_type": "code",
      "source": [
        "df.duplicated()"
      ],
      "metadata": {
        "colab": {
          "base_uri": "https://localhost:8080/"
        },
        "id": "o3Oz7lzqZDxZ",
        "outputId": "15e8b4fa-e415-4390-ede0-e18afe5f1d09"
      },
      "execution_count": 103,
      "outputs": [
        {
          "output_type": "execute_result",
          "data": {
            "text/plain": [
              "0       False\n",
              "1       False\n",
              "2       False\n",
              "3       False\n",
              "4       False\n",
              "        ...  \n",
              "3976    False\n",
              "3977    False\n",
              "3978    False\n",
              "3979    False\n",
              "3980    False\n",
              "Length: 37008, dtype: bool"
            ]
          },
          "metadata": {},
          "execution_count": 103
        }
      ]
    },
    {
      "cell_type": "markdown",
      "source": [
        "There are no duplicate values present in any column of the dataset."
      ],
      "metadata": {
        "id": "0OFcRQsaakPC"
      }
    },
    {
      "cell_type": "code",
      "source": [
        "df.shape"
      ],
      "metadata": {
        "colab": {
          "base_uri": "https://localhost:8080/"
        },
        "id": "lttbV6eMn2lW",
        "outputId": "ae1a0f1f-ea84-43e1-b326-453fceddc4f5"
      },
      "execution_count": null,
      "outputs": [
        {
          "output_type": "execute_result",
          "data": {
            "text/plain": [
              "(37008, 27)"
            ]
          },
          "metadata": {},
          "execution_count": 16
        }
      ]
    },
    {
      "cell_type": "code",
      "source": [
        "df.info()"
      ],
      "metadata": {
        "colab": {
          "base_uri": "https://localhost:8080/"
        },
        "id": "efyausLba47H",
        "outputId": "042cabe8-80e5-407a-db57-acb7d2f6d627"
      },
      "execution_count": 106,
      "outputs": [
        {
          "output_type": "stream",
          "name": "stdout",
          "text": [
            "<class 'pandas.core.frame.DataFrame'>\n",
            "Int64Index: 37008 entries, 0 to 3980\n",
            "Data columns (total 27 columns):\n",
            " #   Column                               Non-Null Count  Dtype \n",
            "---  ------                               --------------  ----- \n",
            " 0   Table Name                           37008 non-null  object\n",
            " 1   State Code                           37008 non-null  object\n",
            " 2   District Code                        37008 non-null  object\n",
            " 3   India/States                         37008 non-null  object\n",
            " 4   Division                             37008 non-null  object\n",
            " 5   Group                                37008 non-null  object\n",
            " 6   Class                                37008 non-null  object\n",
            " 7   NIC Name                             37008 non-null  object\n",
            " 8   Main Workers - Total -  Persons      37008 non-null  int64 \n",
            " 9   Main Workers - Total - Males         37008 non-null  int64 \n",
            " 10  Main Workers - Total - Females       37008 non-null  int64 \n",
            " 11  Main Workers - Rural -  Persons      37008 non-null  int64 \n",
            " 12  Main Workers - Rural - Males         37008 non-null  int64 \n",
            " 13  Main Workers - Rural - Females       37008 non-null  int64 \n",
            " 14  Main Workers - Urban -  Persons      37008 non-null  int64 \n",
            " 15  Main Workers - Urban - Males         37008 non-null  int64 \n",
            " 16  Main Workers - Urban - Females       37008 non-null  int64 \n",
            " 17  Marginal Workers - Total -  Persons  37008 non-null  int64 \n",
            " 18  Marginal Workers - Total - Males     37008 non-null  int64 \n",
            " 19  Marginal Workers - Total - Females   37008 non-null  int64 \n",
            " 20  Marginal Workers - Rural -  Persons  37008 non-null  int64 \n",
            " 21  Marginal Workers - Rural - Males     37008 non-null  int64 \n",
            " 22  Marginal Workers - Rural - Females   37008 non-null  int64 \n",
            " 23  Marginal Workers - Urban -  Persons  37008 non-null  int64 \n",
            " 24  Marginal Workers - Urban - Males     37008 non-null  int64 \n",
            " 25  Marginal Workers - Urban - Females   37008 non-null  int64 \n",
            " 26  sourcefilename                       37008 non-null  object\n",
            "dtypes: int64(18), object(9)\n",
            "memory usage: 7.9+ MB\n"
          ]
        }
      ]
    },
    {
      "cell_type": "markdown",
      "source": [
        "Dropping Unwanted Columns"
      ],
      "metadata": {
        "id": "iLt2n-ETbMPy"
      }
    },
    {
      "cell_type": "code",
      "source": [
        "df.drop(['State Code'], axis=1, inplace=True)"
      ],
      "metadata": {
        "id": "0d7wJaAabSTD"
      },
      "execution_count": 107,
      "outputs": []
    },
    {
      "cell_type": "code",
      "source": [
        "df.drop(['District Code'], axis=1, inplace=True)"
      ],
      "metadata": {
        "id": "UmL231qtchi1"
      },
      "execution_count": null,
      "outputs": []
    },
    {
      "cell_type": "code",
      "source": [
        "df.drop(['Group'], axis=1, inplace=True)"
      ],
      "metadata": {
        "id": "8uIQMxM3cqtY"
      },
      "execution_count": 110,
      "outputs": []
    },
    {
      "cell_type": "markdown",
      "source": [
        "copying the original dataset for further opertions"
      ],
      "metadata": {
        "id": "IZhAJvuHoMG_"
      }
    },
    {
      "cell_type": "code",
      "source": [
        "dforiginal=df.copy()"
      ],
      "metadata": {
        "id": "VywYnBvMoBXW"
      },
      "execution_count": null,
      "outputs": []
    },
    {
      "cell_type": "markdown",
      "source": [
        "Dropping the duplicates in the NIC column"
      ],
      "metadata": {
        "id": "ssWJDrG4ocjm"
      }
    },
    {
      "cell_type": "code",
      "source": [
        "df.drop_duplicates(subset=['NIC Name'], inplace=True)"
      ],
      "metadata": {
        "id": "Do6iMv0qoUgN"
      },
      "execution_count": null,
      "outputs": []
    },
    {
      "cell_type": "code",
      "source": [
        "df['NIC Name'].shape"
      ],
      "metadata": {
        "colab": {
          "base_uri": "https://localhost:8080/"
        },
        "id": "mmwoudyWozgF",
        "outputId": "4195a5cd-65ad-4b1c-b283-2f5a93f01992"
      },
      "execution_count": null,
      "outputs": [
        {
          "output_type": "execute_result",
          "data": {
            "text/plain": [
              "(585,)"
            ]
          },
          "metadata": {},
          "execution_count": 20
        }
      ]
    },
    {
      "cell_type": "markdown",
      "source": [
        "Implementing the natural language processing here to get the clear view"
      ],
      "metadata": {
        "id": "3O_vAlw7o9i2"
      }
    },
    {
      "cell_type": "markdown",
      "source": [
        "1. Remove Punctuation"
      ],
      "metadata": {
        "id": "FbGUEqEFpFm-"
      }
    },
    {
      "cell_type": "code",
      "source": [
        "df['NIC Name_processed'] = df['NIC Name'].str.replace(\"[^a-zA-Z0-9]\", \" \")"
      ],
      "metadata": {
        "colab": {
          "base_uri": "https://localhost:8080/"
        },
        "id": "U89v0LOvpDuQ",
        "outputId": "74f08524-119c-47a9-d3bf-7e48c3faafc1"
      },
      "execution_count": null,
      "outputs": [
        {
          "output_type": "stream",
          "name": "stderr",
          "text": [
            "<ipython-input-21-b105d8043534>:1: FutureWarning: The default value of regex will change from True to False in a future version.\n",
            "  df['NIC Name_processed'] = df['NIC Name'].str.replace(\"[^a-zA-Z0-9]\", \" \")\n"
          ]
        }
      ]
    },
    {
      "cell_type": "code",
      "source": [
        "df = df[['NIC Name_processed']]"
      ],
      "metadata": {
        "id": "PHzIvsIjpb5o"
      },
      "execution_count": null,
      "outputs": []
    },
    {
      "cell_type": "code",
      "source": [
        "df['NIC Name_processed'] "
      ],
      "metadata": {
        "colab": {
          "base_uri": "https://localhost:8080/"
        },
        "id": "1SLfssubphPI",
        "outputId": "048943ed-c5fb-4193-be62-d671ba1d0aff"
      },
      "execution_count": null,
      "outputs": [
        {
          "output_type": "execute_result",
          "data": {
            "text/plain": [
              "0                                                  Total\n",
              "1      Crop and animal production  hunting and relate...\n",
              "2                         Growing of non perennial crops\n",
              "3      Growing of cereals  except rice   leguminous c...\n",
              "4                                        Growing of rice\n",
              "                             ...                        \n",
              "741    Activities of extraterritorial organizations a...\n",
              "744                                                Blank\n",
              "746            Incomplete description  Wrongly Classifed\n",
              "7                                     Growing of tobacco\n",
              "10                                     Growing of grapes\n",
              "Name: NIC Name_processed, Length: 585, dtype: object"
            ]
          },
          "metadata": {},
          "execution_count": 23
        }
      ]
    },
    {
      "cell_type": "markdown",
      "source": [
        "Replacing the null values in order to replace the short words"
      ],
      "metadata": {
        "id": "mHXB2aN2p0zk"
      }
    },
    {
      "cell_type": "code",
      "source": [
        "df['NIC Name_processed'] = df['NIC Name_processed'].fillna(\"\")"
      ],
      "metadata": {
        "colab": {
          "base_uri": "https://localhost:8080/"
        },
        "id": "ffY61Qxtpq7D",
        "outputId": "c6c1f04c-9f34-483e-b6bc-b5b0406d312c"
      },
      "execution_count": null,
      "outputs": [
        {
          "output_type": "stream",
          "name": "stderr",
          "text": [
            "<ipython-input-24-cf3f7ce1e0e1>:1: SettingWithCopyWarning: \n",
            "A value is trying to be set on a copy of a slice from a DataFrame.\n",
            "Try using .loc[row_indexer,col_indexer] = value instead\n",
            "\n",
            "See the caveats in the documentation: https://pandas.pydata.org/pandas-docs/stable/user_guide/indexing.html#returning-a-view-versus-a-copy\n",
            "  df['NIC Name_processed'] = df['NIC Name_processed'].fillna(\"\")\n"
          ]
        }
      ]
    },
    {
      "cell_type": "markdown",
      "source": [
        "2.Replacing the short words"
      ],
      "metadata": {
        "id": "Rqh2ANWZqEpX"
      }
    },
    {
      "cell_type": "code",
      "source": [
        "df['NIC Name_processed'] = df['NIC Name_processed'].apply(lambda x: ' '.join([w for w in x.split() if len(w)>2]))"
      ],
      "metadata": {
        "colab": {
          "base_uri": "https://localhost:8080/"
        },
        "id": "wfUloCnHqI1U",
        "outputId": "eb70b176-9951-4102-816f-adc3e7ac7dc2"
      },
      "execution_count": null,
      "outputs": [
        {
          "output_type": "stream",
          "name": "stderr",
          "text": [
            "<ipython-input-25-b1b7c3589254>:1: SettingWithCopyWarning: \n",
            "A value is trying to be set on a copy of a slice from a DataFrame.\n",
            "Try using .loc[row_indexer,col_indexer] = value instead\n",
            "\n",
            "See the caveats in the documentation: https://pandas.pydata.org/pandas-docs/stable/user_guide/indexing.html#returning-a-view-versus-a-copy\n",
            "  df['NIC Name_processed'] = df['NIC Name_processed'].apply(lambda x: ' '.join([w for w in x.split() if len(w)>2]))\n"
          ]
        }
      ]
    },
    {
      "cell_type": "code",
      "source": [
        "df['NIC Name_processed']"
      ],
      "metadata": {
        "colab": {
          "base_uri": "https://localhost:8080/"
        },
        "id": "CIIjhyc0qUFV",
        "outputId": "9466ff12-6f22-4786-9da6-c0e103d08cd4"
      },
      "execution_count": null,
      "outputs": [
        {
          "output_type": "execute_result",
          "data": {
            "text/plain": [
              "0                                                  Total\n",
              "1      Crop and animal production hunting and related...\n",
              "2                            Growing non perennial crops\n",
              "3      Growing cereals except rice leguminous crops a...\n",
              "4                                           Growing rice\n",
              "                             ...                        \n",
              "741    Activities extraterritorial organizations and ...\n",
              "744                                                Blank\n",
              "746             Incomplete description Wrongly Classifed\n",
              "7                                        Growing tobacco\n",
              "10                                        Growing grapes\n",
              "Name: NIC Name_processed, Length: 585, dtype: object"
            ]
          },
          "metadata": {},
          "execution_count": 26
        }
      ]
    },
    {
      "cell_type": "markdown",
      "source": [
        "3.Making text lowercase"
      ],
      "metadata": {
        "id": "xydq20EBqg5O"
      }
    },
    {
      "cell_type": "code",
      "source": [
        "df['NIC Name_processed'] = [rev.lower() for rev in df['NIC Name_processed']]"
      ],
      "metadata": {
        "colab": {
          "base_uri": "https://localhost:8080/"
        },
        "id": "h3lKAdo5qh0o",
        "outputId": "f67744b3-cadd-4ce7-fb4a-78f06f1b674e"
      },
      "execution_count": null,
      "outputs": [
        {
          "output_type": "stream",
          "name": "stderr",
          "text": [
            "<ipython-input-27-d366961e676f>:1: SettingWithCopyWarning: \n",
            "A value is trying to be set on a copy of a slice from a DataFrame.\n",
            "Try using .loc[row_indexer,col_indexer] = value instead\n",
            "\n",
            "See the caveats in the documentation: https://pandas.pydata.org/pandas-docs/stable/user_guide/indexing.html#returning-a-view-versus-a-copy\n",
            "  df['NIC Name_processed'] = [rev.lower() for rev in df['NIC Name_processed']]\n"
          ]
        }
      ]
    },
    {
      "cell_type": "code",
      "source": [
        "df['NIC Name_processed']"
      ],
      "metadata": {
        "colab": {
          "base_uri": "https://localhost:8080/"
        },
        "id": "WnKdHiVnqwFP",
        "outputId": "8278a64f-ade2-4a64-b918-8d2d5121b19e"
      },
      "execution_count": null,
      "outputs": [
        {
          "output_type": "execute_result",
          "data": {
            "text/plain": [
              "0                                                  total\n",
              "1      crop and animal production hunting and related...\n",
              "2                            growing non perennial crops\n",
              "3      growing cereals except rice leguminous crops a...\n",
              "4                                           growing rice\n",
              "                             ...                        \n",
              "741    activities extraterritorial organizations and ...\n",
              "744                                                blank\n",
              "746             incomplete description wrongly classifed\n",
              "7                                        growing tobacco\n",
              "10                                        growing grapes\n",
              "Name: NIC Name_processed, Length: 585, dtype: object"
            ]
          },
          "metadata": {},
          "execution_count": 28
        }
      ]
    },
    {
      "cell_type": "markdown",
      "source": [
        "4.Remove stopwords"
      ],
      "metadata": {
        "id": "qRQ1jmudq7eO"
      }
    },
    {
      "cell_type": "code",
      "source": [
        "import nltk\n",
        "nltk.download('punkt')\n",
        "nltk.download('stopwords')\n",
        "from nltk.corpus import stopwords\n",
        "from nltk import word_tokenize\n",
        "stop_words = stopwords.words('english')\n",
        "\n",
        "def remove_stopwords(des):\n",
        "  description_tokenized = word_tokenize(des)\n",
        "  des_new = \" \".join([i for i in description_tokenized if i not in stop_words])\n",
        "  return des_new\n",
        "\n",
        "df['NIC Name_processed'] = [remove_stopwords(r) for r in df['NIC Name_processed']]"
      ],
      "metadata": {
        "colab": {
          "base_uri": "https://localhost:8080/"
        },
        "id": "8txvixYDq8as",
        "outputId": "770ef2cd-334e-4134-ff21-2d09db73af3b"
      },
      "execution_count": null,
      "outputs": [
        {
          "output_type": "stream",
          "name": "stderr",
          "text": [
            "[nltk_data] Downloading package punkt to /root/nltk_data...\n",
            "[nltk_data]   Package punkt is already up-to-date!\n",
            "[nltk_data] Downloading package stopwords to /root/nltk_data...\n",
            "[nltk_data]   Package stopwords is already up-to-date!\n",
            "<ipython-input-42-b04d2dd75d85>:13: SettingWithCopyWarning: \n",
            "A value is trying to be set on a copy of a slice from a DataFrame.\n",
            "Try using .loc[row_indexer,col_indexer] = value instead\n",
            "\n",
            "See the caveats in the documentation: https://pandas.pydata.org/pandas-docs/stable/user_guide/indexing.html#returning-a-view-versus-a-copy\n",
            "  df['NIC Name_processed'] = [remove_stopwords(r) for r in df['NIC Name_processed']]\n"
          ]
        }
      ]
    },
    {
      "cell_type": "code",
      "source": [
        "df['NIC Name_processed']"
      ],
      "metadata": {
        "colab": {
          "base_uri": "https://localhost:8080/"
        },
        "id": "R20lFpx9rVoo",
        "outputId": "7514817e-7f3e-490e-c8c5-2ee1a2bf8c9d"
      },
      "execution_count": null,
      "outputs": [
        {
          "output_type": "execute_result",
          "data": {
            "text/plain": [
              "0                                                  total\n",
              "1      crop animal production hunting related service...\n",
              "2                            growing non perennial crops\n",
              "3      growing cereals except rice leguminous crops o...\n",
              "4                                           growing rice\n",
              "                             ...                        \n",
              "741     activities extraterritorial organizations bodies\n",
              "744                                                blank\n",
              "746             incomplete description wrongly classifed\n",
              "7                                        growing tobacco\n",
              "10                                        growing grapes\n",
              "Name: NIC Name_processed, Length: 585, dtype: object"
            ]
          },
          "metadata": {},
          "execution_count": 43
        }
      ]
    },
    {
      "cell_type": "code",
      "source": [
        "!pip install nltk"
      ],
      "metadata": {
        "colab": {
          "base_uri": "https://localhost:8080/"
        },
        "id": "0EfqwC6nszkb",
        "outputId": "7bd726a7-a864-4ce4-b899-0a4f6db827f2"
      },
      "execution_count": null,
      "outputs": [
        {
          "output_type": "stream",
          "name": "stdout",
          "text": [
            "Looking in indexes: https://pypi.org/simple, https://us-python.pkg.dev/colab-wheels/public/simple/\n",
            "Requirement already satisfied: nltk in /usr/local/lib/python3.8/dist-packages (3.7)\n",
            "Requirement already satisfied: regex>=2021.8.3 in /usr/local/lib/python3.8/dist-packages (from nltk) (2022.6.2)\n",
            "Requirement already satisfied: click in /usr/local/lib/python3.8/dist-packages (from nltk) (7.1.2)\n",
            "Requirement already satisfied: tqdm in /usr/local/lib/python3.8/dist-packages (from nltk) (4.64.1)\n",
            "Requirement already satisfied: joblib in /usr/local/lib/python3.8/dist-packages (from nltk) (1.2.0)\n"
          ]
        }
      ]
    },
    {
      "cell_type": "code",
      "source": [
        "import nltk"
      ],
      "metadata": {
        "id": "G92z7YTqvrnE"
      },
      "execution_count": null,
      "outputs": []
    },
    {
      "cell_type": "markdown",
      "source": [
        "5.Lemmatization"
      ],
      "metadata": {
        "id": "9bXxEKeLreGR"
      }
    },
    {
      "cell_type": "code",
      "source": [
        "nltk.download('wordnet')\n",
        "from nltk.stem import WordNetLemmatizer\n",
        "from nltk.corpus import wordnet\n",
        "nltk.download('averaged_perceptron_tagger')\n",
        "\n",
        "lemmatizer = WordNetLemmatizer()\n",
        "\n",
        "def nltk_tag_to_wordnet_tag(nltk_tag):\n",
        "  if nltk_tag.startswith('J'):\n",
        "    return wordnet.ADJ\n",
        "  elif nltk_tag.startswith('V'):\n",
        "    return wordnet.VERB\n",
        "  elif nltk_tag.startswith('N'):\n",
        "    return wordnet.NOUN\n",
        "  elif nltk_tag.startswith('R'):\n",
        "    return wordnet.ADV\n",
        "  else:\n",
        "    return None\n",
        "\n",
        "def lemmatize_sentence(sentence):\n",
        "  nltk_tagged = nltk.pos_tag(nltk.word_tokenize(sentence))\n",
        "  wordnet_tagged = map(lambda x: (x[0], nltk_tag_to_wordnet_tag(x[1])), nltk_tagged)\n",
        "  lemmatized_sentence = []\n",
        "  for word, tag in wordnet_tagged:\n",
        "    if tag is None:\n",
        "      lemmatized_sentence.append(word)\n",
        "    else:\n",
        "      lemmatized_sentence.append(lemmatizer.lemmatize(word,tag))\n",
        "  return \" \".join(lemmatized_sentence)\n",
        "  df['NIC Name_processed'] = df['NIC Name_processed'].apply(lambda x: lemmatize_sentence(x))\n"
      ],
      "metadata": {
        "colab": {
          "base_uri": "https://localhost:8080/"
        },
        "id": "1rUxU0uErgS8",
        "outputId": "d85d54ac-fd83-4729-f8c2-1601a3a37f83"
      },
      "execution_count": null,
      "outputs": [
        {
          "output_type": "stream",
          "name": "stderr",
          "text": [
            "[nltk_data] Downloading package wordnet to /root/nltk_data...\n",
            "[nltk_data]   Package wordnet is already up-to-date!\n",
            "[nltk_data] Downloading package averaged_perceptron_tagger to\n",
            "[nltk_data]     /root/nltk_data...\n",
            "[nltk_data]   Package averaged_perceptron_tagger is already up-to-\n",
            "[nltk_data]       date!\n"
          ]
        }
      ]
    },
    {
      "cell_type": "markdown",
      "source": [
        "1)split sentence into words 2)get the detailed POS for each tag 3)get shallow POS from detailed POS 4)Do lemmatization for each word 5)Join all the words to form sentence"
      ],
      "metadata": {
        "id": "jfY1s8MKx6p6"
      }
    },
    {
      "cell_type": "code",
      "source": [
        "df"
      ],
      "metadata": {
        "colab": {
          "base_uri": "https://localhost:8080/",
          "height": 423
        },
        "id": "GsvJkJy2yFxR",
        "outputId": "3b926173-97be-45ab-ff34-e0899bb0f42c"
      },
      "execution_count": null,
      "outputs": [
        {
          "output_type": "execute_result",
          "data": {
            "text/plain": [
              "                                    NIC Name_processed\n",
              "0                                                total\n",
              "1    crop animal production hunting related service...\n",
              "2                          growing non perennial crops\n",
              "3    growing cereals except rice leguminous crops o...\n",
              "4                                         growing rice\n",
              "..                                                 ...\n",
              "741   activities extraterritorial organizations bodies\n",
              "744                                              blank\n",
              "746           incomplete description wrongly classifed\n",
              "7                                      growing tobacco\n",
              "10                                      growing grapes\n",
              "\n",
              "[585 rows x 1 columns]"
            ],
            "text/html": [
              "\n",
              "  <div id=\"df-2ba5e58c-1314-4c5b-ad52-7bfcaa04c669\">\n",
              "    <div class=\"colab-df-container\">\n",
              "      <div>\n",
              "<style scoped>\n",
              "    .dataframe tbody tr th:only-of-type {\n",
              "        vertical-align: middle;\n",
              "    }\n",
              "\n",
              "    .dataframe tbody tr th {\n",
              "        vertical-align: top;\n",
              "    }\n",
              "\n",
              "    .dataframe thead th {\n",
              "        text-align: right;\n",
              "    }\n",
              "</style>\n",
              "<table border=\"1\" class=\"dataframe\">\n",
              "  <thead>\n",
              "    <tr style=\"text-align: right;\">\n",
              "      <th></th>\n",
              "      <th>NIC Name_processed</th>\n",
              "    </tr>\n",
              "  </thead>\n",
              "  <tbody>\n",
              "    <tr>\n",
              "      <th>0</th>\n",
              "      <td>total</td>\n",
              "    </tr>\n",
              "    <tr>\n",
              "      <th>1</th>\n",
              "      <td>crop animal production hunting related service...</td>\n",
              "    </tr>\n",
              "    <tr>\n",
              "      <th>2</th>\n",
              "      <td>growing non perennial crops</td>\n",
              "    </tr>\n",
              "    <tr>\n",
              "      <th>3</th>\n",
              "      <td>growing cereals except rice leguminous crops o...</td>\n",
              "    </tr>\n",
              "    <tr>\n",
              "      <th>4</th>\n",
              "      <td>growing rice</td>\n",
              "    </tr>\n",
              "    <tr>\n",
              "      <th>...</th>\n",
              "      <td>...</td>\n",
              "    </tr>\n",
              "    <tr>\n",
              "      <th>741</th>\n",
              "      <td>activities extraterritorial organizations bodies</td>\n",
              "    </tr>\n",
              "    <tr>\n",
              "      <th>744</th>\n",
              "      <td>blank</td>\n",
              "    </tr>\n",
              "    <tr>\n",
              "      <th>746</th>\n",
              "      <td>incomplete description wrongly classifed</td>\n",
              "    </tr>\n",
              "    <tr>\n",
              "      <th>7</th>\n",
              "      <td>growing tobacco</td>\n",
              "    </tr>\n",
              "    <tr>\n",
              "      <th>10</th>\n",
              "      <td>growing grapes</td>\n",
              "    </tr>\n",
              "  </tbody>\n",
              "</table>\n",
              "<p>585 rows × 1 columns</p>\n",
              "</div>\n",
              "      <button class=\"colab-df-convert\" onclick=\"convertToInteractive('df-2ba5e58c-1314-4c5b-ad52-7bfcaa04c669')\"\n",
              "              title=\"Convert this dataframe to an interactive table.\"\n",
              "              style=\"display:none;\">\n",
              "        \n",
              "  <svg xmlns=\"http://www.w3.org/2000/svg\" height=\"24px\"viewBox=\"0 0 24 24\"\n",
              "       width=\"24px\">\n",
              "    <path d=\"M0 0h24v24H0V0z\" fill=\"none\"/>\n",
              "    <path d=\"M18.56 5.44l.94 2.06.94-2.06 2.06-.94-2.06-.94-.94-2.06-.94 2.06-2.06.94zm-11 1L8.5 8.5l.94-2.06 2.06-.94-2.06-.94L8.5 2.5l-.94 2.06-2.06.94zm10 10l.94 2.06.94-2.06 2.06-.94-2.06-.94-.94-2.06-.94 2.06-2.06.94z\"/><path d=\"M17.41 7.96l-1.37-1.37c-.4-.4-.92-.59-1.43-.59-.52 0-1.04.2-1.43.59L10.3 9.45l-7.72 7.72c-.78.78-.78 2.05 0 2.83L4 21.41c.39.39.9.59 1.41.59.51 0 1.02-.2 1.41-.59l7.78-7.78 2.81-2.81c.8-.78.8-2.07 0-2.86zM5.41 20L4 18.59l7.72-7.72 1.47 1.35L5.41 20z\"/>\n",
              "  </svg>\n",
              "      </button>\n",
              "      \n",
              "  <style>\n",
              "    .colab-df-container {\n",
              "      display:flex;\n",
              "      flex-wrap:wrap;\n",
              "      gap: 12px;\n",
              "    }\n",
              "\n",
              "    .colab-df-convert {\n",
              "      background-color: #E8F0FE;\n",
              "      border: none;\n",
              "      border-radius: 50%;\n",
              "      cursor: pointer;\n",
              "      display: none;\n",
              "      fill: #1967D2;\n",
              "      height: 32px;\n",
              "      padding: 0 0 0 0;\n",
              "      width: 32px;\n",
              "    }\n",
              "\n",
              "    .colab-df-convert:hover {\n",
              "      background-color: #E2EBFA;\n",
              "      box-shadow: 0px 1px 2px rgba(60, 64, 67, 0.3), 0px 1px 3px 1px rgba(60, 64, 67, 0.15);\n",
              "      fill: #174EA6;\n",
              "    }\n",
              "\n",
              "    [theme=dark] .colab-df-convert {\n",
              "      background-color: #3B4455;\n",
              "      fill: #D2E3FC;\n",
              "    }\n",
              "\n",
              "    [theme=dark] .colab-df-convert:hover {\n",
              "      background-color: #434B5C;\n",
              "      box-shadow: 0px 1px 3px 1px rgba(0, 0, 0, 0.15);\n",
              "      filter: drop-shadow(0px 1px 2px rgba(0, 0, 0, 0.3));\n",
              "      fill: #FFFFFF;\n",
              "    }\n",
              "  </style>\n",
              "\n",
              "      <script>\n",
              "        const buttonEl =\n",
              "          document.querySelector('#df-2ba5e58c-1314-4c5b-ad52-7bfcaa04c669 button.colab-df-convert');\n",
              "        buttonEl.style.display =\n",
              "          google.colab.kernel.accessAllowed ? 'block' : 'none';\n",
              "\n",
              "        async function convertToInteractive(key) {\n",
              "          const element = document.querySelector('#df-2ba5e58c-1314-4c5b-ad52-7bfcaa04c669');\n",
              "          const dataTable =\n",
              "            await google.colab.kernel.invokeFunction('convertToInteractive',\n",
              "                                                     [key], {});\n",
              "          if (!dataTable) return;\n",
              "\n",
              "          const docLinkHtml = 'Like what you see? Visit the ' +\n",
              "            '<a target=\"_blank\" href=https://colab.research.google.com/notebooks/data_table.ipynb>data table notebook</a>'\n",
              "            + ' to learn more about interactive tables.';\n",
              "          element.innerHTML = '';\n",
              "          dataTable['output_type'] = 'display_data';\n",
              "          await google.colab.output.renderOutput(dataTable, element);\n",
              "          const docLink = document.createElement('div');\n",
              "          docLink.innerHTML = docLinkHtml;\n",
              "          element.appendChild(docLink);\n",
              "        }\n",
              "      </script>\n",
              "    </div>\n",
              "  </div>\n",
              "  "
            ]
          },
          "metadata": {},
          "execution_count": 51
        }
      ]
    },
    {
      "cell_type": "markdown",
      "source": [
        "EDA"
      ],
      "metadata": {
        "id": "Lqijd4EwvHDj"
      }
    },
    {
      "cell_type": "code",
      "source": [
        "import matplotlib.pyplot as plt\n",
        "import seaborn as sns\n",
        "sns.set(style = 'white')\n",
        "from nltk import FreqDist\n",
        "\n",
        "all_words = ' '.join([text for text in df['NIC Name_processed']])\n",
        "all_words = all_words.split()\n",
        "words_df = FreqDist(all_words)\n",
        "words_df = pd.DataFrame({'word':list(words_df.keys()), 'count':list(words_df.values())})\n",
        "words_df\n",
        "words_df = words_df.nlargest(columns=\"count\", n = 20)\n",
        "words_df.sort_values('count', inplace = True)\n",
        "plt.figure(figsize=(20,5))\n",
        "ax = plt.barh(words_df['word'], width = words_df['count'])\n",
        "plt.show()"
      ],
      "metadata": {
        "colab": {
          "base_uri": "https://localhost:8080/",
          "height": 299
        },
        "id": "mlmzcmuzvaXT",
        "outputId": "175c29f4-8cb6-4638-ee69-9c414d8fe753"
      },
      "execution_count": null,
      "outputs": [
        {
          "output_type": "display_data",
          "data": {
            "text/plain": [
              "<Figure size 1440x360 with 1 Axes>"
            ],
            "image/png": "[encoded data removed]"
          },
          "metadata": {}
        }
      ]
    },
    {
      "cell_type": "code",
      "source": [
        "import matplotlib.pyplot as plt\n",
        "import seaborn as sns\n",
        "dforiginal.info()"
      ],
      "metadata": {
        "id": "m0Xmqp7e8j7P",
        "colab": {
          "base_uri": "https://localhost:8080/"
        },
        "outputId": "0f286947-cd99-4598-c13e-46809bbf8b4b"
      },
      "execution_count": 94,
      "outputs": [
        {
          "output_type": "stream",
          "name": "stdout",
          "text": [
            "<class 'pandas.core.frame.DataFrame'>\n",
            "Int64Index: 37008 entries, 0 to 3980\n",
            "Data columns (total 27 columns):\n",
            " #   Column                               Non-Null Count  Dtype \n",
            "---  ------                               --------------  ----- \n",
            " 0   Table Name                           37008 non-null  object\n",
            " 1   State Code                           37008 non-null  object\n",
            " 2   District Code                        37008 non-null  object\n",
            " 3   India/States                         37008 non-null  object\n",
            " 4   Division                             37008 non-null  object\n",
            " 5   Group                                37008 non-null  object\n",
            " 6   Class                                37008 non-null  object\n",
            " 7   NIC Name                             37008 non-null  object\n",
            " 8   Main Workers - Total -  Persons      37008 non-null  int64 \n",
            " 9   Main Workers - Total - Males         37008 non-null  int64 \n",
            " 10  Main Workers - Total - Females       37008 non-null  int64 \n",
            " 11  Main Workers - Rural -  Persons      37008 non-null  int64 \n",
            " 12  Main Workers - Rural - Males         37008 non-null  int64 \n",
            " 13  Main Workers - Rural - Females       37008 non-null  int64 \n",
            " 14  Main Workers - Urban -  Persons      37008 non-null  int64 \n",
            " 15  Main Workers - Urban - Males         37008 non-null  int64 \n",
            " 16  Main Workers - Urban - Females       37008 non-null  int64 \n",
            " 17  Marginal Workers - Total -  Persons  37008 non-null  int64 \n",
            " 18  Marginal Workers - Total - Males     37008 non-null  int64 \n",
            " 19  Marginal Workers - Total - Females   37008 non-null  int64 \n",
            " 20  Marginal Workers - Rural -  Persons  37008 non-null  int64 \n",
            " 21  Marginal Workers - Rural - Males     37008 non-null  int64 \n",
            " 22  Marginal Workers - Rural - Females   37008 non-null  int64 \n",
            " 23  Marginal Workers - Urban -  Persons  37008 non-null  int64 \n",
            " 24  Marginal Workers - Urban - Males     37008 non-null  int64 \n",
            " 25  Marginal Workers - Urban - Females   37008 non-null  int64 \n",
            " 26  sourcefilename                       37008 non-null  object\n",
            "dtypes: int64(18), object(9)\n",
            "memory usage: 7.9+ MB\n"
          ]
        }
      ]
    },
    {
      "cell_type": "markdown",
      "source": [
        "In bag of words we're using TFIDF to convert NIC Name column to Numbers"
      ],
      "metadata": {
        "id": "ZD2-pFC7ySMU"
      }
    },
    {
      "cell_type": "code",
      "source": [
        "from sklearn.feature_extraction.text import TfidfVectorizer\n",
        "tfidf = TfidfVectorizer()\n",
        "san = tfidf.fit_transform(df['NIC Name_processed']).toarray()\n",
        "featureNames = tfidf.get_feature_names()"
      ],
      "metadata": {
        "colab": {
          "base_uri": "https://localhost:8080/"
        },
        "id": "TW7rrj20ya9T",
        "outputId": "a9a73bf5-8de8-4554-b901-f84be35fe39e"
      },
      "execution_count": null,
      "outputs": [
        {
          "output_type": "stream",
          "name": "stderr",
          "text": [
            "/usr/local/lib/python3.8/dist-packages/sklearn/utils/deprecation.py:87: FutureWarning: Function get_feature_names is deprecated; get_feature_names is deprecated in 1.0 and will be removed in 1.2. Please use get_feature_names_out instead.\n",
            "  warnings.warn(msg, category=FutureWarning)\n"
          ]
        }
      ]
    },
    {
      "cell_type": "code",
      "source": [
        "san"
      ],
      "metadata": {
        "colab": {
          "base_uri": "https://localhost:8080/"
        },
        "id": "GqlYNFJwzJ5e",
        "outputId": "c22702e6-5ab2-4f7d-a817-db95087c14c4"
      },
      "execution_count": null,
      "outputs": [
        {
          "output_type": "execute_result",
          "data": {
            "text/plain": [
              "array([[0. , 0. , 0. , ..., 0. , 0. , 0. ],\n",
              "       [0. , 0. , 0. , ..., 0. , 0. , 0. ],\n",
              "       [0. , 0. , 0. , ..., 0. , 0. , 0. ],\n",
              "       ...,\n",
              "       [0. , 0. , 0. , ..., 0. , 0.5, 0. ],\n",
              "       [0. , 0. , 0. , ..., 0. , 0. , 0. ],\n",
              "       [0. , 0. , 0. , ..., 0. , 0. , 0. ]])"
            ]
          },
          "metadata": {},
          "execution_count": 58
        }
      ]
    },
    {
      "cell_type": "code",
      "source": [
        "import matplotlib.pyplot as plt\n",
        "from matplotlib.image import imread\n",
        "import pandas as pd\n",
        "import seaborn as sns\n"
      ],
      "metadata": {
        "id": "GiZgF53y0qeT"
      },
      "execution_count": null,
      "outputs": []
    },
    {
      "cell_type": "markdown",
      "source": [
        "Now we are importing kmeans which is unsupervised learning"
      ],
      "metadata": {
        "id": "6i6C4iwU0szv"
      }
    },
    {
      "cell_type": "code",
      "source": [
        "from sklearn.cluster import KMeans\n",
        "from sklearn.preprocessing import StandardScaler"
      ],
      "metadata": {
        "id": "CDnzsIV00xVp"
      },
      "execution_count": null,
      "outputs": []
    },
    {
      "cell_type": "markdown",
      "source": [
        "we're using kmeans to find the no of clusters that is similar group of workers"
      ],
      "metadata": {
        "id": "eHViwodf0-dv"
      }
    },
    {
      "cell_type": "code",
      "source": [
        "inertias = []\n",
        "list_k = list(range(1, 30))\n",
        "for k in list_k:\n",
        "  km = KMeans(n_clusters=k)\n",
        "  km.fit(san)\n",
        "  inertias.append(km.inertia_)\n",
        "plt.figure(figsize=(6,6))\n",
        "plt.plot(list_k, inertias, '-o')\n",
        "plt.xlabel(r'Number of clusters')\n",
        "plt.ylabel('Inertia');\n",
        "plt.show()"
      ],
      "metadata": {
        "colab": {
          "base_uri": "https://localhost:8080/",
          "height": 394
        },
        "id": "1UFmITm202yO",
        "outputId": "d85d70b9-2031-4fca-be02-034ae8089b5b"
      },
      "execution_count": null,
      "outputs": [
        {
          "output_type": "display_data",
          "data": {
            "text/plain": [
              "<Figure size 432x432 with 1 Axes>"
            ],
            "image/png": "[encoded data removed]"
          },
          "metadata": {}
        }
      ]
    }
  ]
}